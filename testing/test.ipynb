{
 "cells": [
  {
   "cell_type": "code",
   "execution_count": null,
   "metadata": {},
   "outputs": [],
   "source": [
    "from PIL import Image\n",
    "import cv2\n",
    "import tensorflow as tf\n",
    "from tensorflow.keras.models import load_model\n",
    "import numpy as np\n",
    "from datasets import load_dataset"
   ]
  },
  {
   "cell_type": "code",
   "execution_count": null,
   "metadata": {},
   "outputs": [],
   "source": [
    "input_shape = (128, 128)"
   ]
  },
  {
   "cell_type": "code",
   "execution_count": null,
   "metadata": {},
   "outputs": [],
   "source": [
    "categories = ['Cat', 'Dog']\n",
    "model = load_model('../ai_models/cat_dog_squared_10.keras')"
   ]
  },
  {
   "cell_type": "code",
   "execution_count": null,
   "metadata": {},
   "outputs": [],
   "source": [
    "model.summary()"
   ]
  },
  {
   "cell_type": "code",
   "execution_count": null,
   "metadata": {},
   "outputs": [],
   "source": [
    "def make_square(image):\n",
    "    width, height = image.size\n",
    "\n",
    "    # If the image is already square, return the original image\n",
    "    if width == height:\n",
    "        return image\n",
    "\n",
    "    # Determine the size of the new square image (it should be the max of width and height)\n",
    "    new_size = max(width, height)\n",
    "\n",
    "    # Create a new black image with a square size\n",
    "    new_image = Image.new(\"RGB\", (new_size, new_size), color=(0, 0, 0))  # Black background\n",
    "\n",
    "    # Calculate the position to paste the original image (centered)\n",
    "    paste_position = ((new_size - width) // 2, (new_size - height) // 2)\n",
    "\n",
    "    # Paste the original image onto the new black square\n",
    "    new_image.paste(image, paste_position)\n",
    "\n",
    "    return new_image"
   ]
  },
  {
   "cell_type": "code",
   "execution_count": null,
   "metadata": {},
   "outputs": [],
   "source": [
    "file_path = '../samples/ex_8.png'\n",
    "img = Image.open(file_path)\n",
    "new_image = make_square(img) \n",
    "img_resized = new_image.resize(input_shape, Image.Resampling.LANCZOS)\n",
    "img_result = np.array(img_resized)\n",
    "img_result = np.expand_dims(img_result, axis=0)\n",
    "img_result = img_result / 255.0\n",
    "\n",
    "print(f'shape: {img_result.shape}')"
   ]
  },
  {
   "cell_type": "code",
   "execution_count": null,
   "metadata": {},
   "outputs": [],
   "source": [
    "result = model.predict(img_result, verbose=1)\n",
    "\n",
    "if result < 0.5:\n",
    "    label = categories[0]\n",
    "else:\n",
    "    label = categories[1]\n",
    "\n",
    "print(f'result: {result}')\n",
    "print(f'label: {label}')    \n",
    "\n",
    "factor_scale = 3\n",
    "\n",
    "WIDTH = int(128*factor_scale)\n",
    "HEIGHT = int(128*factor_scale)\n",
    "\n",
    "img_result = img_result.reshape((128, 128, 3))\n",
    "img_result = cv2.resize(img_result, (WIDTH, HEIGHT))\n",
    "#img_result = cv2.rotate(img_result, cv2.ROTATE_90_CLOCKWISE)\n",
    "\n",
    "text = f\"Label: {label}{' '*4}Result: {result}\"\n",
    "position = (30, 30)  \n",
    "font = cv2.FONT_HERSHEY_SIMPLEX \n",
    "font_scale = 0.8\n",
    "color = (0, 0, 0)\n",
    "thickness = 2\n",
    "\n",
    "cv2.putText(img_result, text, position, font, font_scale, color, thickness)\n",
    "cv2.imshow('', img_result)\n",
    "cv2.waitKey(0)\n",
    "cv2.destroyAllWindows()"
   ]
  }
 ],
 "metadata": {
  "kernelspec": {
   "display_name": "ml",
   "language": "python",
   "name": "python3"
  },
  "language_info": {
   "codemirror_mode": {
    "name": "ipython",
    "version": 3
   },
   "file_extension": ".py",
   "mimetype": "text/x-python",
   "name": "python",
   "nbconvert_exporter": "python",
   "pygments_lexer": "ipython3",
   "version": "3.11.9"
  }
 },
 "nbformat": 4,
 "nbformat_minor": 2
}
